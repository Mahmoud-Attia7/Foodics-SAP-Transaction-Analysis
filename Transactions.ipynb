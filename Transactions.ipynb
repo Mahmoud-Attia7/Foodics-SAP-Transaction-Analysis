{
 "cells": [
  {
   "cell_type": "code",
   "execution_count": 4,
   "id": "b1ebbcb4",
   "metadata": {},
   "outputs": [],
   "source": [
    "import pandas as pd\n",
    "import json\n",
    "from FoodicsAPIMethods import FoodAPIMethods"
   ]
  },
  {
   "cell_type": "code",
   "execution_count": 17,
   "id": "540cae3b",
   "metadata": {},
   "outputs": [],
   "source": [
    "class Process_Transactions:\n",
    "    def __init__(self, authURL):\n",
    "        self.fm_api = FoodAPIMethods(authURL)\n",
    "        \n",
    "        \n",
    "    def Convert_Json_INTO_DF(self, url, current_page = 1):\n",
    "        print(url + '&' + 'page=' + str(current_page))\n",
    "        endpointURL = url + '&' + 'page=' + str(current_page)\n",
    "        data_json = self.fm_api.Get_Transaction(endpointURL)\n",
    "        extracted_data = [{'id': transaction['id'], 'reference': transaction['reference']} for transaction in data_json['data']]\n",
    "        data_frame = pd.DataFrame(extracted_data)\n",
    "        if data_json['meta']['last_page'] != 1 and current_page < data_json['meta']['last_page']:\n",
    "            next_page = current_page + 1\n",
    "            new_df = self.Convert_Json_INTO_DF(url, current_page = next_page)\n",
    "            data_frame = pd.concat([data_frame, new_df], ignore_index=True)\n",
    "        return data_frame\n",
    "        "
   ]
  },
  {
   "cell_type": "code",
   "execution_count": 18,
   "id": "907ded7f",
   "metadata": {},
   "outputs": [],
   "source": [
    "PT = Process_Transactions('https://console-sandbox.foodics.com/dashboard?code=def5020082c06093752f02e896626304960e4ba87003b6b8b0123e753f5f70f4439c996c5de910d06f60b5bd5b346617429425b67c3a9b9f06af2702478d2c2cedf7b64278ccfdf3d571848e1071a83109b44f3d599fd8465b92b2c7a0307da00a452489756d9bfebe3e45e983d28463d588996b610074b66190d40b0f72769b22dee86e02e4809ba1c0354a24f5472fcad4436067474268f56dadd15471fdfc8d446c45179d328be88585fc92a696d7968e348950eb95f5da809fdca12f2d20917d0ad797c71c6bcad5ee38157ac741bfa511ffbce38b1011f9218848c6978f2bc34d56a3ed1195547d8dd655a39712fe661eeedfb7f75680be1bef7b18e1a3fc971ed3ee056634890b10ddd22b6acfe545ded668a2c980cde0a0994f88962e5b342303cd6b2eaeb2b411010bed8facb86d6d172eb289f1ce8b31c2f7db2fb1e080f8e47533f6042ec9ccc8c303097263d1595c3d0253b69d8da9ba7f62291e9f52a7784cfed932f31a9b227d33ae47f59a21f5e3fa95888bedbce281b0594341a9f4e82bec7fe4e8d82899784c8c318e01fa7906207923ff5eb283a41b9491792dea1c64142ececc8b197d1bf96beedda16cf28e&state=random_string')"
   ]
  },
  {
   "cell_type": "code",
   "execution_count": 19,
   "id": "c52d542f",
   "metadata": {},
   "outputs": [
    {
     "name": "stdout",
     "output_type": "stream",
     "text": [
      "https://api-sandbox.foodics.com/v5/orders?sort=reference&page=1\n",
      "https://api-sandbox.foodics.com/v5/orders?sort=reference&page=2\n",
      "https://api-sandbox.foodics.com/v5/orders?sort=reference&page=3\n",
      "https://api-sandbox.foodics.com/v5/orders?sort=reference&page=4\n"
     ]
    }
   ],
   "source": [
    "# 'https://api-sandbox.foodics.com/v5/orders/9c2a63bd-ae00-4eca-b336-9aa16f15fbf8'\n",
    "df = PT.Convert_Json_INTO_DF('https://api-sandbox.foodics.com/v5/orders?sort=reference')"
   ]
  },
  {
   "cell_type": "code",
   "execution_count": 20,
   "id": "9d15c569",
   "metadata": {},
   "outputs": [],
   "source": [
    "# !jupyter nbconvert --to script FoodicsAPIMethods.ipynb"
   ]
  },
  {
   "cell_type": "code",
   "execution_count": 21,
   "id": "c0349fe0",
   "metadata": {},
   "outputs": [
    {
     "name": "stdout",
     "output_type": "stream",
     "text": [
      "176\n"
     ]
    }
   ],
   "source": [
    "dublicate_ids = df['reference'].duplicated()\n",
    "print(len(dublicate_ids))"
   ]
  },
  {
   "cell_type": "code",
   "execution_count": 22,
   "id": "c5b104bd",
   "metadata": {},
   "outputs": [
    {
     "data": {
      "text/html": [
       "<div>\n",
       "<style scoped>\n",
       "    .dataframe tbody tr th:only-of-type {\n",
       "        vertical-align: middle;\n",
       "    }\n",
       "\n",
       "    .dataframe tbody tr th {\n",
       "        vertical-align: top;\n",
       "    }\n",
       "\n",
       "    .dataframe thead th {\n",
       "        text-align: right;\n",
       "    }\n",
       "</style>\n",
       "<table border=\"1\" class=\"dataframe\">\n",
       "  <thead>\n",
       "    <tr style=\"text-align: right;\">\n",
       "      <th></th>\n",
       "      <th>id</th>\n",
       "      <th>reference</th>\n",
       "    </tr>\n",
       "  </thead>\n",
       "  <tbody>\n",
       "  </tbody>\n",
       "</table>\n",
       "</div>"
      ],
      "text/plain": [
       "Empty DataFrame\n",
       "Columns: [id, reference]\n",
       "Index: []"
      ]
     },
     "execution_count": 22,
     "metadata": {},
     "output_type": "execute_result"
    }
   ],
   "source": [
    "df[dublicate_ids]"
   ]
  },
  {
   "cell_type": "code",
   "execution_count": 23,
   "id": "7b7afcfd",
   "metadata": {},
   "outputs": [],
   "source": [
    "with pd.ExcelWriter('Result/f1.xlsx', engine='xlsxwriter') as writer:\n",
    "    df.to_excel(writer, sheet_name='sheet', index=False)"
   ]
  },
  {
   "cell_type": "code",
   "execution_count": null,
   "id": "75a8d724",
   "metadata": {},
   "outputs": [],
   "source": []
  },
  {
   "cell_type": "code",
   "execution_count": null,
   "id": "c83ae3ae",
   "metadata": {},
   "outputs": [],
   "source": []
  },
  {
   "cell_type": "code",
   "execution_count": null,
   "id": "08fb71e7",
   "metadata": {},
   "outputs": [],
   "source": []
  },
  {
   "cell_type": "code",
   "execution_count": null,
   "id": "0626f48c",
   "metadata": {},
   "outputs": [],
   "source": []
  },
  {
   "cell_type": "code",
   "execution_count": null,
   "id": "d10a3b51",
   "metadata": {},
   "outputs": [],
   "source": []
  },
  {
   "cell_type": "code",
   "execution_count": null,
   "id": "19b8cebe",
   "metadata": {},
   "outputs": [],
   "source": []
  },
  {
   "cell_type": "code",
   "execution_count": null,
   "id": "479c46ec",
   "metadata": {},
   "outputs": [],
   "source": []
  },
  {
   "cell_type": "code",
   "execution_count": null,
   "id": "9e9bc42d",
   "metadata": {},
   "outputs": [],
   "source": []
  },
  {
   "cell_type": "code",
   "execution_count": null,
   "id": "8f89ebea",
   "metadata": {},
   "outputs": [],
   "source": []
  }
 ],
 "metadata": {
  "kernelspec": {
   "display_name": "Python 3 (ipykernel)",
   "language": "python",
   "name": "python3"
  },
  "language_info": {
   "codemirror_mode": {
    "name": "ipython",
    "version": 3
   },
   "file_extension": ".py",
   "mimetype": "text/x-python",
   "name": "python",
   "nbconvert_exporter": "python",
   "pygments_lexer": "ipython3",
   "version": "3.9.13"
  }
 },
 "nbformat": 4,
 "nbformat_minor": 5
}
