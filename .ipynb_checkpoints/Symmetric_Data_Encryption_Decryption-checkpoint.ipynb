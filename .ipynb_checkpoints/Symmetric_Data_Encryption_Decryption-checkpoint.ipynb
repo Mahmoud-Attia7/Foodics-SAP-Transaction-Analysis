{
 "cells": [
  {
   "cell_type": "code",
   "execution_count": 25,
   "id": "a7e8d3b8",
   "metadata": {},
   "outputs": [],
   "source": [
    "import os\n",
    "from cryptography.hazmat.primitives.kdf.pbkdf2 import PBKDF2HMAC\n",
    "from cryptography.hazmat.primitives import hashes\n",
    "from cryptography.hazmat.primitives.ciphers import Cipher, algorithms, modes\n",
    "from cryptography.hazmat.backends import default_backend\n",
    "from cryptography.hazmat.primitives import padding"
   ]
  },
  {
   "cell_type": "code",
   "execution_count": 27,
   "id": "6710eb13",
   "metadata": {},
   "outputs": [],
   "source": [
    "class SymmetricDataED:\n",
    "    \n",
    "    def generate_key(salt: bytes) -> bytes:\n",
    "        password = \"strong_password\"\n",
    "        kdf = PBKDF2HMAC(\n",
    "            algorithm=hashes.SHA256(),\n",
    "            length=32,\n",
    "            salt=salt,\n",
    "            iterations=100000,\n",
    "            backend=default_backend()\n",
    "        )\n",
    "        key = kdf.derive(password.encode())\n",
    "        return key\n",
    "\n",
    "    def encrypt(plaintext: str) -> bytes:\n",
    "        salt = os.urandom(16)\n",
    "        key = SymmetricDataED.generate_key(salt)\n",
    "        iv = os.urandom(16)\n",
    "\n",
    "        padder = padding.PKCS7(algorithms.AES.block_size).padder()\n",
    "        padded_data = padder.update(plaintext.encode()) + padder.finalize()\n",
    "\n",
    "        cipher = Cipher(algorithms.AES(key), modes.CBC(iv), backend=default_backend())\n",
    "        encryptor = cipher.encryptor()\n",
    "        ciphertext = encryptor.update(padded_data) + encryptor.finalize()\n",
    "\n",
    "        return salt + iv + ciphertext\n",
    "\n",
    "    def decrypt(ciphertext: bytes) -> str:\n",
    "        salt = ciphertext[:16]\n",
    "        iv = ciphertext[16:32]\n",
    "        encrypted_data = ciphertext[32:]\n",
    "\n",
    "        key = SymmetricDataED.generate_key(salt)\n",
    "\n",
    "        cipher = Cipher(algorithms.AES(key), modes.CBC(iv), backend=default_backend())\n",
    "        decryptor = cipher.decryptor()\n",
    "        padded_data = decryptor.update(encrypted_data) + decryptor.finalize()\n",
    "\n",
    "        unpadder = padding.PKCS7(algorithms.AES.block_size).unpadder()\n",
    "        plaintext = unpadder.update(padded_data) + unpadder.finalize()\n",
    "\n",
    "        return plaintext.decode()"
   ]
  },
  {
   "cell_type": "code",
   "execution_count": null,
   "id": "ad16cf86",
   "metadata": {},
   "outputs": [],
   "source": []
  },
  {
   "cell_type": "code",
   "execution_count": null,
   "id": "41945b0c",
   "metadata": {},
   "outputs": [],
   "source": []
  }
 ],
 "metadata": {
  "kernelspec": {
   "display_name": "Python 3 (ipykernel)",
   "language": "python",
   "name": "python3"
  },
  "language_info": {
   "codemirror_mode": {
    "name": "ipython",
    "version": 3
   },
   "file_extension": ".py",
   "mimetype": "text/x-python",
   "name": "python",
   "nbconvert_exporter": "python",
   "pygments_lexer": "ipython3",
   "version": "3.9.13"
  }
 },
 "nbformat": 4,
 "nbformat_minor": 5
}
