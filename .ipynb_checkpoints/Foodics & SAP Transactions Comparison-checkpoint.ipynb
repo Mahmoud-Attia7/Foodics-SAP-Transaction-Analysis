{
 "cells": [
  {
   "cell_type": "code",
   "execution_count": 1,
   "id": "b4620307",
   "metadata": {},
   "outputs": [],
   "source": [
    "import pandas as pd\n",
    "import os\n",
    "import numpy as np\n",
    "from datetime import datetime\n",
    "import xlsxwriter"
   ]
  },
  {
   "cell_type": "code",
   "execution_count": 2,
   "id": "d9a8cd15",
   "metadata": {},
   "outputs": [],
   "source": [
    "folder_path = 'Result'\n",
    "os.makedirs(folder_path, exist_ok=True)\n",
    "current_time = datetime.now().strftime(\"%Y-%m-%d_%H-%M%S\")\n",
    "transactions = pd.ExcelFile('SAPFOODICSTRANSACTIONSCOMPARISON.xlsx')\n",
    "transactions_items = pd.ExcelFile('Transactions Items.xlsx')\n",
    "# product_ingredients = pd.read_csv('product_ingredients.csv')\n",
    "non_matching_transactions_excel_path = os.path.join(folder_path, f'transactions_{current_time}.xlsx')\n",
    "non_matching_transactions_items_excel_path = os.path.join(folder_path, f'non_matching_tarnsactions_items_{current_time}.xlsx')"
   ]
  },
  {
   "cell_type": "code",
   "execution_count": 3,
   "id": "f37ff28d",
   "metadata": {},
   "outputs": [],
   "source": [
    "items_ingreditents_excel_path = os.path.join(folder_path, f'items_ingreditents__{current_time}.xlsx')"
   ]
  },
  {
   "cell_type": "code",
   "execution_count": 4,
   "id": "fdf36b5c",
   "metadata": {},
   "outputs": [],
   "source": [
    "# pull non_matched_transactions"
   ]
  },
  {
   "cell_type": "code",
   "execution_count": 2,
   "id": "281bf49f",
   "metadata": {},
   "outputs": [],
   "source": [
    "def non_matching_transactions(food, sap):\n",
    "    food['reference'] = food['reference'].astype(str)\n",
    "    sap['Foodics Ref'] = sap['Foodics Ref'].astype(str)\n",
    "\n",
    "    # Find references in food_ref not in sap_ref\n",
    "    mask = ~food['reference'].isin(sap['Foodics Ref'])\n",
    "    transactions = food[mask]\n",
    "\n",
    "    return(transactions)"
   ]
  },
  {
   "cell_type": "code",
   "execution_count": 6,
   "id": "65f1f73a",
   "metadata": {
    "scrolled": true
   },
   "outputs": [
    {
     "name": "stdout",
     "output_type": "stream",
     "text": [
      "['FO', 'SO', 'FR', 'SR', 'FQA', 'SQA', 'FTRR', 'STRR', 'FTRS', 'STRS']\n"
     ]
    }
   ],
   "source": [
    "# print(transactions.sheet_names)"
   ]
  },
  {
   "cell_type": "code",
   "execution_count": 7,
   "id": "7b76d16f",
   "metadata": {},
   "outputs": [],
   "source": [
    "unsorted_food_order = transactions.parse('FO')[['reference', 'branch_reference', 'branch_name', 'business_date']]"
   ]
  },
  {
   "cell_type": "code",
   "execution_count": 8,
   "id": "7fc917dd",
   "metadata": {},
   "outputs": [],
   "source": [
    "unsorted_SAP_order = transactions.parse('SO')[['Foodics Reference']]"
   ]
  },
  {
   "cell_type": "code",
   "execution_count": 9,
   "id": "5b37646d",
   "metadata": {},
   "outputs": [],
   "source": [
    "unsorted_food_return = transactions.parse('FR')[['reference', 'branch_reference', 'branch_name', 'business_date']]"
   ]
  },
  {
   "cell_type": "code",
   "execution_count": 10,
   "id": "35372010",
   "metadata": {},
   "outputs": [],
   "source": [
    "unsorted_SAP_return = transactions.parse('SR')[['Foodics Ref']]"
   ]
  },
  {
   "cell_type": "code",
   "execution_count": 11,
   "id": "16af1ce7",
   "metadata": {},
   "outputs": [],
   "source": [
    "# unsorted_food_QA = transactions.parse('FQA')[['reference', 'branch', 'business_date']]"
   ]
  },
  {
   "cell_type": "code",
   "execution_count": 12,
   "id": "f35fe623",
   "metadata": {},
   "outputs": [],
   "source": [
    "# unsorted_SAP_QA = transactions.parse('SQA')[['Foodics Ref']]"
   ]
  },
  {
   "cell_type": "code",
   "execution_count": 13,
   "id": "dd685e9c",
   "metadata": {},
   "outputs": [],
   "source": [
    "# unsorted_food_TRR = transactions.parse('FTRR')[['reference', 'source', 'business_date']]"
   ]
  },
  {
   "cell_type": "code",
   "execution_count": 14,
   "id": "aaf1d60c",
   "metadata": {},
   "outputs": [],
   "source": [
    "# unsorted_SAP_TRR = transactions.parse('STRR')[['Foodics Ref']]"
   ]
  },
  {
   "cell_type": "code",
   "execution_count": 15,
   "id": "94b5cb90",
   "metadata": {},
   "outputs": [],
   "source": [
    "# unsorted_food_TRS = transactions.parse('FTRS')[['reference', 'source', 'business_date']]"
   ]
  },
  {
   "cell_type": "code",
   "execution_count": 16,
   "id": "f524910c",
   "metadata": {},
   "outputs": [],
   "source": [
    "# unsorted_SAP_TRS = transactions.parse('STRS')[['Foodics Ref']]"
   ]
  },
  {
   "cell_type": "code",
   "execution_count": 17,
   "id": "fc583bbe",
   "metadata": {},
   "outputs": [],
   "source": [
    "unsorted_SAP_order.rename(columns={'Foodics Reference': 'Foodics Ref'}, inplace=True)"
   ]
  },
  {
   "cell_type": "code",
   "execution_count": 10,
   "id": "3f368b28",
   "metadata": {},
   "outputs": [],
   "source": [
    "# unsorted_food_order['Foodics Ref'] = unsorted_food_order['reference'].astype(str)\n",
    "# unsorted_SAP_order['Foodics Ref'] = unsorted_SAP_order['Foodics Ref'].astype(str)\n",
    "# unsorted_food_return['Foodics Ref'] = unsorted_food_return['reference'].astype(str)\n",
    "# unsorted_SAP_return['Foodics Ref'] = unsorted_SAP_return['Foodics Ref'].astype(str)"
   ]
  },
  {
   "cell_type": "code",
   "execution_count": 11,
   "id": "ec9afb9a",
   "metadata": {},
   "outputs": [],
   "source": [
    "sorted_SAP_order = unsorted_SAP_order.sort_values(by='Foodics Ref')"
   ]
  },
  {
   "cell_type": "code",
   "execution_count": 20,
   "id": "449ec0c4",
   "metadata": {},
   "outputs": [],
   "source": [
    "sorted_SAP_return = unsorted_SAP_return.sort_values(by='Foodics Ref')"
   ]
  },
  {
   "cell_type": "code",
   "execution_count": 21,
   "id": "affc3df7",
   "metadata": {},
   "outputs": [],
   "source": [
    "sorted_SAP_QA = unsorted_SAP_QA.sort_values(by='Foodics Ref')"
   ]
  },
  {
   "cell_type": "code",
   "execution_count": 22,
   "id": "52a7e6a9",
   "metadata": {},
   "outputs": [],
   "source": [
    "sorted_SAP_TRR = unsorted_SAP_TRR.sort_values(by='Foodics Ref')"
   ]
  },
  {
   "cell_type": "code",
   "execution_count": 23,
   "id": "a74a189d",
   "metadata": {},
   "outputs": [],
   "source": [
    "sorted_SAP_TRS = unsorted_SAP_TRS.sort_values(by='Foodics Ref')"
   ]
  },
  {
   "cell_type": "code",
   "execution_count": 12,
   "id": "78049807",
   "metadata": {},
   "outputs": [],
   "source": [
    "non_matching_orders = non_matching_transactions(unsorted_food_order, sorted_SAP_order)\n",
    "non_matching_return = non_matching_transactions(unsorted_food_return, sorted_SAP_return)\n",
    "non_matching_QA = non_matching_transactions(unsorted_food_QA, sorted_SAP_QA)\n",
    "non_matching_TRR = non_matching_transactions(unsorted_food_TRR, sorted_SAP_TRR)\n",
    "non_matching_TRS = non_matching_transactions(unsorted_food_TRS, sorted_SAP_TRS)"
   ]
  },
  {
   "cell_type": "code",
   "execution_count": 25,
   "id": "ba84adb4",
   "metadata": {},
   "outputs": [
    {
     "name": "stderr",
     "output_type": "stream",
     "text": [
      "C:\\Users\\memom\\AppData\\Local\\Temp\\ipykernel_153396\\347483150.py:1: SettingWithCopyWarning: \n",
      "A value is trying to be set on a copy of a slice from a DataFrame\n",
      "\n",
      "See the caveats in the documentation: https://pandas.pydata.org/pandas-docs/stable/user_guide/indexing.html#returning-a-view-versus-a-copy\n",
      "  non_matching_QA.rename(columns={'branch': 'branch_name'}, inplace=True)\n",
      "C:\\Users\\memom\\AppData\\Local\\Temp\\ipykernel_153396\\347483150.py:2: SettingWithCopyWarning: \n",
      "A value is trying to be set on a copy of a slice from a DataFrame\n",
      "\n",
      "See the caveats in the documentation: https://pandas.pydata.org/pandas-docs/stable/user_guide/indexing.html#returning-a-view-versus-a-copy\n",
      "  non_matching_TRR.rename(columns={'source': 'branch_name'}, inplace=True)\n",
      "C:\\Users\\memom\\AppData\\Local\\Temp\\ipykernel_153396\\347483150.py:3: SettingWithCopyWarning: \n",
      "A value is trying to be set on a copy of a slice from a DataFrame\n",
      "\n",
      "See the caveats in the documentation: https://pandas.pydata.org/pandas-docs/stable/user_guide/indexing.html#returning-a-view-versus-a-copy\n",
      "  non_matching_TRS.rename(columns={'source': 'branch_name'}, inplace=True)\n"
     ]
    }
   ],
   "source": [
    "# non_matching_QA.rename(columns={'branch': 'branch_name'}, inplace=True)\n",
    "# non_matching_TRR.rename(columns={'source': 'branch_name'}, inplace=True)\n",
    "# non_matching_TRS.rename(columns={'source': 'branch_name'}, inplace=True)"
   ]
  },
  {
   "cell_type": "code",
   "execution_count": 13,
   "id": "381241b0",
   "metadata": {},
   "outputs": [],
   "source": [
    "with pd.ExcelWriter(non_matching_transactions_excel_path, engine='xlsxwriter') as writer:\n",
    "    # Write DataFrames to separate sheets\n",
    "    non_matching_orders.to_excel(writer, sheet_name='order', index=False)\n",
    "    non_matching_return.to_excel(writer, sheet_name='return', index=False)\n",
    "    non_matching_QA.to_excel(writer, sheet_name='QA', index=False)\n",
    "    non_matching_TRR.to_excel(writer, sheet_name='TRR', index=False)\n",
    "    non_matching_TRS.to_excel(writer, sheet_name='TRS', index=False)"
   ]
  },
  {
   "cell_type": "code",
   "execution_count": 27,
   "id": "2b60a8f1",
   "metadata": {},
   "outputs": [],
   "source": [
    "# decompose transactions items"
   ]
  },
  {
   "cell_type": "code",
   "execution_count": 27,
   "id": "373865d9",
   "metadata": {},
   "outputs": [],
   "source": [
    "def decomposse_transaction(transaction_branches, non_matching_transactions, transactions_items):\n",
    "    branch_items = {}\n",
    "    columns = ['transaction_reference', 'sku', 'name', 'name_localized', 'quantity']\n",
    "    for branch in transaction_branches:\n",
    "        references = non_matching_transactions[non_matching_transactions['branch_name'] == branch]['reference'].tolist()\n",
    "        references = [int(ref) if ref.isdigit() else ref for ref in references]\n",
    "        mask_references = np.isin(transactions_items[:, 0], references)\n",
    "        mask_not_se = ~np.char.startswith(transactions_items[:, 1].astype(str), 'SE')\n",
    "        non_matching_transactions_items = transactions_items[mask_references & mask_not_se]\n",
    "        non_matching_transactions_items = pd.DataFrame(non_matching_transactions_items, columns=columns)\n",
    "        branch_items[branch] = non_matching_transactions_items\n",
    "    return branch_items"
   ]
  },
  {
   "cell_type": "code",
   "execution_count": 28,
   "id": "09f6185e",
   "metadata": {},
   "outputs": [],
   "source": [
    "orders_unique_branches = non_matching_orders['branch_name'].unique()\n",
    "QA_unique_branches = non_matching_QA['branch_name'].unique()\n",
    "# TRR_unique_branches = non_matching_TRR['branch_name'].unique()\n",
    "TRS_unique_branches = non_matching_TRS['branch_name'].unique()"
   ]
  },
  {
   "cell_type": "code",
   "execution_count": 29,
   "id": "7c419678",
   "metadata": {},
   "outputs": [],
   "source": [
    "orders_items = np.array(transactions_items.parse('OI')[['order_reference', 'sku', 'name', 'name_localized', 'quantity']])\n",
    "QAs_items = np.array(transactions_items.parse('QAI')[['reference', 'sku', 'name', 'name_localized', 'deducted_quantity']])\n",
    "# TRRs_items = np.array(transactions_items.parse('TRRI')[['reference', 'sku', 'name', 'name_localized', 'quantity']])\n",
    "TRSs_items = np.array(transactions_items.parse('TRSI')[['reference', 'sku', 'name', 'name_localized', 'quantity']])"
   ]
  },
  {
   "cell_type": "code",
   "execution_count": 30,
   "id": "5f4de7d8",
   "metadata": {},
   "outputs": [],
   "source": [
    "orders_items_by_branch = decomposse_transaction(orders_unique_branches, non_matching_orders, orders_items)\n",
    "QA_items_by_branch = decomposse_transaction(QA_unique_branches, non_matching_QA, QAs_items)\n",
    "# TRR_items_by_branch = decomposse_transaction(TRR_unique_branches, non_matching_TRR, TRRs_items)\n",
    "TRS_items_by_branch = decomposse_transaction(TRS_unique_branches, non_matching_TRS, TRSs_items)"
   ]
  },
  {
   "cell_type": "code",
   "execution_count": 31,
   "id": "753da48f",
   "metadata": {},
   "outputs": [],
   "source": [
    "with pd.ExcelWriter(non_matching_transactions_items_excel_path, engine='xlsxwriter') as writer:\n",
    "    for branch, df in orders_items_by_branch.items():\n",
    "        df.to_excel(writer, sheet_name=f'order{branch}', index=False)  # Naming sheets by branch\n",
    "\n",
    "    for branch, df in QA_items_by_branch.items():\n",
    "        df.to_excel(writer, sheet_name=f'QA{branch}', index=False)\n",
    "\n",
    "#     for branch, df in TRR_items_by_branch.items():\n",
    "#         df.to_excel(writer, sheet_name=f'TRR{branch}', index=False)\n",
    "\n",
    "    for branch, df in TRS_items_by_branch.items():\n",
    "        df.to_excel(writer, sheet_name=f'TRS{branch}', index=False)"
   ]
  },
  {
   "cell_type": "code",
   "execution_count": 32,
   "id": "5cbe9372",
   "metadata": {},
   "outputs": [],
   "source": [
    "def Merge_duplicated_Items(items):\n",
    "    columns = items.columns\n",
    "    merged_items = []\n",
    "    temp_items = np.array(items)\n",
    "    if len(columns) == 5:\n",
    "        refrences, counts = np.unique(temp_items[:, 1], return_counts=True)\n",
    "        duplicates = refrences[counts>0]\n",
    "        for ref in duplicates:\n",
    "            name1 = temp_items[temp_items[:, 1] ==  ref][:, 2][0]\n",
    "            name2 = temp_items[temp_items[:, 1] ==  ref][:, 3][0] \n",
    "            quantity = sum(temp_items[temp_items[:, 1] == ref][:, 4])\n",
    "            final_item = [ref, name1, name2, quantity]\n",
    "            merged_items.append(final_item)\n",
    "        merged_items =  pd.DataFrame(merged_items, columns=['SKU', 'Name', 'Name_Localized', 'Quantity'])\n",
    "    elif len(columns) == 3:\n",
    "        refrences, counts = np.unique(temp_items[:, 0], return_counts=True)\n",
    "        duplicates = refrences[counts>0]\n",
    "        for ref in duplicates:\n",
    "            name = temp_items[temp_items[:, 0] ==  ref][:, 1][0]\n",
    "            quantity = sum(temp_items[temp_items[:, 0] == ref][:, 2]) #checkpoint!!!!!!!!!!!!!!!!!!!!!!!!!!!\n",
    "            final_item = [ref, name, quantity]\n",
    "            merged_items.append(final_item)   \n",
    "        merged_items =  pd.DataFrame(merged_items, columns=['SKU', 'Name', 'Quantity'])\n",
    "        \n",
    "    return merged_items"
   ]
  },
  {
   "cell_type": "code",
   "execution_count": 33,
   "id": "fd34372a",
   "metadata": {},
   "outputs": [],
   "source": [
    "# def decompose_items(non_matching_transaction_items_by_branch):\n",
    "#     decomposed_items = {}\n",
    "#     for branch in non_matching_transaction_items_by_branch:\n",
    "#         transaction_items = non_matching_transaction_items_by_branch[branch]\n",
    "#         transaction_items = Merge_duplicated_Items(transaction_items)\n",
    "#         filtered_ingredients = product_ingredients[product_ingredients['product_sku'].isin(transaction_items['SKU'])]\n",
    "#         filtered_ingredients = pd.merge(filtered_ingredients, transaction_items, left_on='product_sku', right_on='SKU')\n",
    "#         filtered_ingredients['quantity'] *= filtered_ingredients['Quantity']\n",
    "#         items_ingredients = filtered_ingredients.loc[:, ['inventory_item_sku', 'inventory_item_name', 'quantity']]\n",
    "#         items_ingredients = Merge_duplicated_Items(items_ingredients)\n",
    "#         decomposed_items[branch] = items_ingredients\n",
    "#     return decomposed_items\n",
    "            "
   ]
  },
  {
   "cell_type": "code",
   "execution_count": 34,
   "id": "76c1d93f",
   "metadata": {},
   "outputs": [],
   "source": [
    "# orders_items_ingredients_by_branch = decompose_items(orders_items_by_branch)\n",
    "# QA_items_ingredients_by_branch = decompose_items(QA_items_by_branch)\n",
    "# TRR_items_ingredients_by_branch = decompose_items(TRR_items_by_branch)\n",
    "# TRS_items_ingredients_by_branch = decompose_items(TRS_items_by_branch)"
   ]
  },
  {
   "cell_type": "code",
   "execution_count": 35,
   "id": "8c3fb667",
   "metadata": {},
   "outputs": [],
   "source": [
    "with pd.ExcelWriter(items_ingreditents_excel_path, engine='xlsxwriter') as writer:\n",
    "    for branch, df in orders_items_ingredients_by_branch.items():\n",
    "        df.to_excel(writer, sheet_name=f'order{branch}', index=False)  # Naming sheets by branch\n",
    "\n",
    "    for branch, df in QA_items_ingredients_by_branch.items():\n",
    "        df.to_excel(writer, sheet_name=f'QA{branch}', index=False)\n",
    "\n",
    "#     for branch, df in TRR_items_ingredients_by_branch.items():\n",
    "#         df.to_excel(writer, sheet_name=f'TRR{branch}', index=False)\n",
    "\n",
    "    for branch, df in TRS_items_ingredients_by_branch.items():\n",
    "        df.to_excel(writer, sheet_name=f'TRS{branch}', index=False)\n",
    "    non_matching_return.to_excel(writer, sheet_name='return', index=False)"
   ]
  },
  {
   "cell_type": "code",
   "execution_count": 36,
   "id": "0c3e7eca",
   "metadata": {},
   "outputs": [
    {
     "name": "stdout",
     "output_type": "stream",
     "text": [
      "done\n"
     ]
    }
   ],
   "source": [
    "print(\"done\")"
   ]
  },
  {
   "cell_type": "code",
   "execution_count": null,
   "id": "7ce8373b",
   "metadata": {},
   "outputs": [],
   "source": []
  },
  {
   "cell_type": "code",
   "execution_count": null,
   "id": "83180798",
   "metadata": {},
   "outputs": [],
   "source": []
  }
 ],
 "metadata": {
  "kernelspec": {
   "display_name": "Python 3 (ipykernel)",
   "language": "python",
   "name": "python3"
  },
  "language_info": {
   "codemirror_mode": {
    "name": "ipython",
    "version": 3
   },
   "file_extension": ".py",
   "mimetype": "text/x-python",
   "name": "python",
   "nbconvert_exporter": "python",
   "pygments_lexer": "ipython3",
   "version": "3.9.13"
  }
 },
 "nbformat": 4,
 "nbformat_minor": 5
}
