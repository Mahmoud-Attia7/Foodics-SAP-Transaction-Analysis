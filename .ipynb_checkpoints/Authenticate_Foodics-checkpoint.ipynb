{
 "cells": [
  {
   "cell_type": "code",
   "execution_count": 13,
   "id": "6fc22eea",
   "metadata": {},
   "outputs": [],
   "source": [
    "import os\n",
    "import time\n",
    "import json\n",
    "import base64\n",
    "import datetime\n",
    "import webbrowser\n",
    "from Error_Window import ErrWindow\n",
    "from requests.exceptions import HTTPError\n",
    "from authlib.integrations.requests_client import OAuth2Session\n",
    "from Symmetric_Data_Encryption_Decryption import SymmetricDataED as SD"
   ]
  },
  {
   "cell_type": "code",
   "execution_count": 15,
   "id": "523fedfe",
   "metadata": {},
   "outputs": [],
   "source": [
    "class AuthFoodics:\n",
    "    def __init__(self):\n",
    "        self.file_path = 'XJEHTY.json'\n",
    "        self.clien_ID = '9bac1607-0aa3-430e-8f28-a3308d32c4bf'\n",
    "        self.client_secret = 'rbWGDQxZse5YphnvJyUxuV7zFw3MGEJ5IQK04V6E'\n",
    "        self.redirect_uri = 'https://console-sandbox.foodics.com/dashboard'\n",
    "        self.token_endpoint  = 'https://api-sandbox.foodics.com/oauth/token'\n",
    "        self.authorization_endpoint  = 'https://console-sandbox.foodics.com/authorize'\n",
    "        self.client = OAuth2Session(self.clien_ID, self.client_secret, redirect_uri=self.redirect_uri)\n",
    "        self.errwindow = ErrWindow()\n",
    "    def BrowsLoginFoodics(self):\n",
    "        uri, state = self.client.create_authorization_url(self.authorization_endpoint)\n",
    "        webbrowser.open(uri)\n",
    "        \n",
    "    def GetFoodicsToken(self, redirect_url='', counter=0):\n",
    "        expires_at = 'none'\n",
    "        token_type = 'none'\n",
    "        access_token = 'none'\n",
    "        current_time = time.time()\n",
    "        if os.path.exists(self.file_path):\n",
    "            with open(self.file_path, 'r') as file:\n",
    "                data = json.load(file)\n",
    "                access_token = SD.decrypt(base64.b64decode(data['access_token']))\n",
    "                token_type = SD.decrypt(base64.b64decode(data['token_type']))\n",
    "                expires_at = SD.decrypt(base64.b64decode(data['expires_at'])) \n",
    "        \n",
    "        if not os.path.exists(self.file_path) or current_time >= int(expires_at):\n",
    "            try:        \n",
    "                if os.path.exists(self.file_path):\n",
    "                    os.remove(self.file_path)\n",
    "                    self.errwindow.show_error(f\"Failed to fetch data. Status code: {response.status_code}, Response: {response.text}\")\n",
    "                    \n",
    "                authorization_response = redirect_url\n",
    "                token = self.client.fetch_token(\n",
    "                    self.token_endpoint,\n",
    "                    authorization_response=authorization_response,\n",
    "                )\n",
    "                \n",
    "                access_token = base64.b64encode(SD.encrypt(token['access_token'])).decode('utf-8')\n",
    "                token_type = base64.b64encode(SD.encrypt(token['token_type'])).decode('utf-8')\n",
    "                expires_at = base64.b64encode(SD.encrypt(str(token['expires_at']))).decode('utf-8')\n",
    "                data = {\n",
    "                    \"access_token\": access_token,\n",
    "                    \"token_type\": token_type,\n",
    "                    \"expires_at\": expires_at,\n",
    "                }\n",
    "                \n",
    "                access_token = token['access_token']\n",
    "                token_type = token['token_type']\n",
    "                expires_at = token['expires_at']\n",
    "                \n",
    "                with open(self.file_path, 'w') as json_file:\n",
    "                    json.dump(data, json_file, indent=3)\n",
    "                \n",
    "                counter = 0\n",
    "\n",
    "        except HTTPError as http_err:\n",
    "            status_code = http_err.response.status_code\n",
    "            max_retries = {404: 1, 422: 1, 429: 2, 500: 4}\n",
    "            \n",
    "            if status_code in max_retries and counter < max_retries[status_code]:\n",
    "                return self.get_foodics_token(redirect_url, counter + 1)\n",
    "            elif status_code == 401:\n",
    "                self.errwindow.show_error(f\"No valid Access Token was given. Attempt {counter}\")\n",
    "            elif status_code == 403:\n",
    "                self.errwindow.show_error(f\"You do not have permission to access this resource. Attempt {counter}\")\n",
    "            elif status_code == 503:\n",
    "                self.errwindow.show_error(f\"Foodics is offline for maintenance. Attempt {counter}\")\n",
    "            else:\n",
    "                self.errwindow.show_error(f\"An error occurred: {status_code}. Attempt {counter}\")\n",
    "        \n",
    "        except requests.RequestException as e:\n",
    "            self.errwindow.show_error(f\"A request error occurred: {e}. Attempt {counter}\")\n",
    "        \n",
    "        except Exception as e:\n",
    "            self.errwindow.show_error(f\"An unexpected error occurred: {e}. Attempt {counter}\")\n",
    "\n",
    "                \n",
    "            \n",
    "        return access_token, token_type\n",
    "    "
   ]
  },
  {
   "cell_type": "code",
   "execution_count": 6,
   "id": "fa5a5626",
   "metadata": {},
   "outputs": [
    {
     "name": "stderr",
     "output_type": "stream",
     "text": [
      "[NbConvertApp] Converting notebook Error_Window.ipynb to script\n",
      "[NbConvertApp] Writing 235 bytes to Error_Window.py\n"
     ]
    }
   ],
   "source": [
    "!jupyter nbconvert --to script Error_Window.ipynb"
   ]
  },
  {
   "cell_type": "code",
   "execution_count": null,
   "id": "05475dd9",
   "metadata": {},
   "outputs": [],
   "source": []
  }
 ],
 "metadata": {
  "kernelspec": {
   "display_name": "Python 3 (ipykernel)",
   "language": "python",
   "name": "python3"
  },
  "language_info": {
   "codemirror_mode": {
    "name": "ipython",
    "version": 3
   },
   "file_extension": ".py",
   "mimetype": "text/x-python",
   "name": "python",
   "nbconvert_exporter": "python",
   "pygments_lexer": "ipython3",
   "version": "3.9.13"
  }
 },
 "nbformat": 4,
 "nbformat_minor": 5
}
