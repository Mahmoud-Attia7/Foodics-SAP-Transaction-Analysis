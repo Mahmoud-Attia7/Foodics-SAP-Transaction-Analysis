{
 "cells": [
  {
   "cell_type": "code",
   "execution_count": 6,
   "id": "88c2bd25",
   "metadata": {},
   "outputs": [],
   "source": [
    "import ctypes"
   ]
  },
  {
   "cell_type": "code",
   "execution_count": 7,
   "id": "da080f3d",
   "metadata": {},
   "outputs": [],
   "source": [
    "class ErrWindow:\n",
    "    def show_error(self, message):\n",
    "        # Show the error message box\n",
    "        ctypes.windll.user32.MessageBoxW(0, message, \"Error\", 0x10)"
   ]
  },
  {
   "cell_type": "code",
   "execution_count": 8,
   "id": "33b8ce74",
   "metadata": {},
   "outputs": [],
   "source": [
    "# Usage\n",
    "if __name__ == \"__main__\":\n",
    "    error_window = ErrWindow()\n",
    "    error_window.show_error(\"This is an error message\")"
   ]
  },
  {
   "cell_type": "code",
   "execution_count": null,
   "id": "43fc8f91",
   "metadata": {},
   "outputs": [],
   "source": []
  }
 ],
 "metadata": {
  "kernelspec": {
   "display_name": "Python 3 (ipykernel)",
   "language": "python",
   "name": "python3"
  },
  "language_info": {
   "codemirror_mode": {
    "name": "ipython",
    "version": 3
   },
   "file_extension": ".py",
   "mimetype": "text/x-python",
   "name": "python",
   "nbconvert_exporter": "python",
   "pygments_lexer": "ipython3",
   "version": "3.9.13"
  }
 },
 "nbformat": 4,
 "nbformat_minor": 5
}
