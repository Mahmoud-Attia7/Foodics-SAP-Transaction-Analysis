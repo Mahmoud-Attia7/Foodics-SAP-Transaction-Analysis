{
 "cells": [
  {
   "cell_type": "code",
   "execution_count": 23,
   "id": "d456cb3e",
   "metadata": {},
   "outputs": [],
   "source": [
    "import requests\n",
    "from Error_Window import ErrWindow\n",
    "from requests.exceptions import HTTPError\n",
    "from Authenticate_Foodics import AuthFoodics"
   ]
  },
  {
   "cell_type": "code",
   "execution_count": 24,
   "id": "51f39961",
   "metadata": {},
   "outputs": [],
   "source": [
    "class FoodAPIMethods:\n",
    "    def __init__(self, url):\n",
    "        self.errwindow = ErrWindow()\n",
    "        self.auth = AuthFoodics()\n",
    "        self.access_token, self.token_type = self.auth.GetFoodicsToken(url)\n",
    "        self.headers = {\n",
    "            'Authorization': f'Bearer {self.access_token}',\n",
    "            'Content-Type': 'application/json'\n",
    "        }\n",
    "            \n",
    "    def Get_Transaction(self, end_point, counter=0):\n",
    "        max_retries = {404: 1, 422: 1, 429: 2, 500: 4}\n",
    "\n",
    "        try:\n",
    "            response = requests.get(end_point, headers=self.headers)\n",
    "            response.raise_for_status()\n",
    "\n",
    "            if response.status_code == 200:\n",
    "                return response.json()\n",
    "\n",
    "        except HTTPError as http_err:\n",
    "            status_code = http_err.response.status_code\n",
    "            if status_code in max_retries and counter < max_retries[status_code]:\n",
    "                return self.GetTransaction(end_point, counter + 1)\n",
    "            elif status_code == 401:\n",
    "                self.errwindow.show_error(\"No valid Access Token was given.\")\n",
    "            elif status_code == 403:\n",
    "                self.errwindow.show_error(\"You do not have permission to access this resource.\")\n",
    "            elif status_code == 503:\n",
    "                self.errwindow.show_error(\"Service is offline for maintenance.\")\n",
    "            else:\n",
    "                self.errwindow.show_error(f\"An error occurred: {status_code}. Attempt {counter}\")\n",
    "\n",
    "        except requests.RequestException as e:\n",
    "            self.errwindow.show_error(f\"A request error occurred: {e}. Attempt {counter}\")\n",
    "\n",
    "        except Exception as e:\n",
    "            self.errwindow.show_error(f\"An unexpected error occurred: {e}. Attempt {counter}\")\n",
    "\n",
    "        return None        "
   ]
  }
 ],
 "metadata": {
  "kernelspec": {
   "display_name": "Python 3 (ipykernel)",
   "language": "python",
   "name": "python3"
  },
  "language_info": {
   "codemirror_mode": {
    "name": "ipython",
    "version": 3
   },
   "file_extension": ".py",
   "mimetype": "text/x-python",
   "name": "python",
   "nbconvert_exporter": "python",
   "pygments_lexer": "ipython3",
   "version": "3.9.13"
  }
 },
 "nbformat": 4,
 "nbformat_minor": 5
}
